{
  "cells": [
    {
      "cell_type": "markdown",
      "metadata": {
        "id": "view-in-github",
        "colab_type": "text"
      },
      "source": [
        "<a href=\"https://colab.research.google.com/github/pogchampouu/Portfolio/blob/main/PFA.ipynb\" target=\"_parent\"><img src=\"https://colab.research.google.com/assets/colab-badge.svg\" alt=\"Open In Colab\"/></a>"
      ]
    },
    {
      "cell_type": "markdown",
      "metadata": {
        "id": "6_phIWyJAl72"
      },
      "source": [
        "# **Import**"
      ]
    },
    {
      "cell_type": "markdown",
      "metadata": {
        "id": "MUpJpbveD82B"
      },
      "source": [
        "# **Remove all the files in a directory**"
      ]
    },
    {
      "cell_type": "code",
      "execution_count": 1,
      "metadata": {
        "id": "E4zUpmX4Du_8"
      },
      "outputs": [],
      "source": [
        "def removeImages(data_dir) :\n",
        "  file_list = os.listdir(data_dir)\n",
        "  for file_name in file_list:\n",
        "      file_path = os.path.join(data_dir, file_name)\n",
        "      if os.path.isfile(file_path):\n",
        "          os.remove(file_path)"
      ]
    },
    {
      "cell_type": "code",
      "execution_count": 2,
      "metadata": {
        "id": "bUQOuCko-R_5"
      },
      "outputs": [],
      "source": [
        "import os\n",
        "import cv2\n",
        "import numpy as np\n",
        "import pandas as pd\n",
        "import tensorflow as tf\n",
        "import matplotlib.pyplot as plt\n",
        "import xml.etree.ElementTree as xet"
      ]
    },
    {
      "cell_type": "markdown",
      "metadata": {
        "id": "vCVKXs9DDjju"
      },
      "source": [
        "# **Read the XML Files and get the fields and the coordonées from them**"
      ]
    },
    {
      "cell_type": "code",
      "execution_count": 3,
      "metadata": {
        "id": "aZenXPQ9DQR6",
        "colab": {
          "base_uri": "https://localhost:8080/"
        },
        "outputId": "7f500685-9d65-42ee-a26b-170f51a09e4e"
      },
      "outputs": [
        {
          "output_type": "stream",
          "name": "stdout",
          "text": [
            "['prenom', 82, 269, 646, 748]\n",
            "['nom', 82, 357, 799, 911]\n",
            "['date', 984, 1410, 983, 1070]\n",
            "['apogee', 996, 1412, 1113, 1195]\n",
            "['cne', 1004, 1476, 1256, 1344]\n",
            "['email', 118, 1098, 1730, 1828]\n"
          ]
        }
      ],
      "source": [
        "xml_file = xet.parse('data/A (1).xml')\n",
        "root = xml_file.getroot()\n",
        "for obj in root.findall('object'):\n",
        "    name = obj.find('name').text\n",
        "    xmin = int(obj.find('bndbox/xmin').text)\n",
        "    ymin = int(obj.find('bndbox/ymin').text)\n",
        "    xmax = int(obj.find('bndbox/xmax').text)\n",
        "    ymax = int(obj.find('bndbox/ymax').text)\n",
        "    print([name,xmin,xmax,ymin,ymax])"
      ]
    },
    {
      "cell_type": "code",
      "execution_count": 4,
      "metadata": {
        "id": "_2qy6lw5EEve",
        "colab": {
          "base_uri": "https://localhost:8080/"
        },
        "outputId": "dffc0822-9c46-4d1e-907b-2bbeb26a565a"
      },
      "outputs": [
        {
          "output_type": "stream",
          "name": "stdout",
          "text": [
            "115 ['A (110).xml', 'A (14).xml', 'A (69).xml', 'A (11).xml', 'A (42).xml', 'A (51).xml', 'A (47).xml', 'A (106).xml', 'A (45).xml', 'A (62).xml', 'A (72).xml', 'A (91).xml', 'A (25).xml', 'A (84).xml', 'A (18).xml', 'A (5).xml', 'A (77).xml', 'A (107).xml', 'A (115).xml', 'A (2).xml', 'A (66).xml', 'A (56).xml', 'A (59).xml', 'A (85).xml', 'A (40).xml', 'A (95).xml', 'A (109).xml', 'A (43).xml', 'A (80).xml', 'A (24).xml', 'A (1).xml', 'A (4).xml', 'A (10).xml', 'A (8).xml', 'A (70).xml', 'A (28).xml', 'A (113).xml', 'A (61).xml', 'A (98).xml', 'A (55).xml', 'A (49).xml', 'A (52).xml', 'A (108).xml', 'A (71).xml', 'A (96).xml', 'A (34).xml', 'A (39).xml', 'A (97).xml', 'A (111).xml', 'A (114).xml', 'A (100).xml', 'A (94).xml', 'A (7).xml', 'A (65).xml', 'A (30).xml', 'A (78).xml', 'A (21).xml', 'A (48).xml', 'A (67).xml', 'A (36).xml', 'A (32).xml', 'A (57).xml', 'A (63).xml', 'A (6).xml', 'A (58).xml', 'A (112).xml', 'A (17).xml', 'A (87).xml', 'A (15).xml', 'A (20).xml', 'A (44).xml', 'A (104).xml', 'A (50).xml', 'A (81).xml', 'A (37).xml', 'A (22).xml', 'A (35).xml', 'A (54).xml', 'A (33).xml', 'A (101).xml', 'A (73).xml', 'A (89).xml', 'A (27).xml', 'A (9).xml', 'A (82).xml', 'A (16).xml', 'A (74).xml', 'A (23).xml', 'A (86).xml', 'A (29).xml', 'A (12).xml', 'A (92).xml', 'A (76).xml', 'A (79).xml', 'A (31).xml', 'A (83).xml', 'A (68).xml', 'A (93).xml', 'A (60).xml', 'A (53).xml', 'A (102).xml', 'A (41).xml', 'A (26).xml', 'A (105).xml', 'A (90).xml', 'A (13).xml', 'A (88).xml', 'A (75).xml', 'A (3).xml', 'A (19).xml', 'A (38).xml', 'A (46).xml', 'A (99).xml', 'A (103).xml', 'A (64).xml']\n"
          ]
        }
      ],
      "source": [
        "path = 'data/'\n",
        "# List all our XML files in our data directory\n",
        "files = [filename for filename in os.listdir(path) if filename.endswith('.xml')]\n",
        "print(len(files),files)"
      ]
    },
    {
      "cell_type": "code",
      "execution_count": 5,
      "metadata": {
        "id": "KHxz-RseE9C4"
      },
      "outputs": [],
      "source": [
        "labels_dict = {\n",
        "      'filepath': [], \n",
        "      'prenom_xmin': [], 'prenom_xmax': [], 'prenom_ymin': [], 'prenom_ymax': [],\n",
        "      'nom_xmin': [], 'nom_xmax': [], 'nom_ymin': [], 'nom_ymax': [],\n",
        "      'date_xmin': [], 'date_xmax': [], 'date_ymin': [], 'date_ymax': [],\n",
        "      'apogee_xmin': [], 'apogee_xmax': [], 'apogee_ymin': [], 'apogee_ymax': [],\n",
        "      'cne_xmin': [], 'cne_xmax': [], 'cne_ymin': [], 'cne_ymax': [],\n",
        "      'email_xmin': [], 'email_xmax': [], 'email_ymin': [], 'email_ymax': []  \n",
        "}"
      ]
    },
    {
      "cell_type": "code",
      "execution_count": 6,
      "metadata": {
        "id": "ih1qjvkWFTWP"
      },
      "outputs": [],
      "source": [
        "# Loop ela ga3 fichiers XML that we have\n",
        "for filename in files :\n",
        "  file_path = os.path.join(path,filename)\n",
        "  # Parse the XMl File\n",
        "  xml_file = xet.parse(file_path)\n",
        "  root = xml_file.getroot()\n",
        "  for objet in root.findall('object'):\n",
        "    # get our objects , li huma fields dyalna (prenom , nom ....)\n",
        "    objet_name = objet.find('name') # Our field\n",
        "    # ila makanch\n",
        "    if objet_name is None :\n",
        "      # SKip\n",
        "      continue\n",
        "    # Smiya d field\n",
        "    objet_name_text = objet_name.text\n",
        "    # Bounding boxes\n",
        "    labels = objet.find('bndbox')\n",
        "    if labels is None :\n",
        "      continue\n",
        "    xmin_element = labels.find('xmin')\n",
        "    xmax_element = labels.find('xmax')\n",
        "    ymin_element = labels.find('ymin')\n",
        "    ymax_element = labels.find('ymax')\n",
        "    if None in (xmin_element, xmax_element, ymin_element, ymax_element):\n",
        "      continue\n",
        "    xmin = int(xmin_element.text)\n",
        "    xmax = int(xmax_element.text)\n",
        "    ymin = int(ymin_element.text)\n",
        "    ymax = int(ymax_element.text)\n",
        "    if file_path not in labels_dict['filepath']:\n",
        "            labels_dict['filepath'].append(file_path)\n",
        "    labels_dict[f'{objet_name_text}_xmin'].append(xmin)\n",
        "    labels_dict[f'{objet_name_text}_xmax'].append(xmax)\n",
        "    labels_dict[f'{objet_name_text}_ymin'].append(ymin)\n",
        "    labels_dict[f'{objet_name_text}_ymax'].append(ymax)\n"
      ]
    },
    {
      "cell_type": "code",
      "execution_count": 7,
      "metadata": {
        "id": "e-_2-4djNIKf",
        "colab": {
          "base_uri": "https://localhost:8080/"
        },
        "outputId": "bc0107d1-e974-49c9-d343-b6cd8857eb17"
      },
      "outputs": [
        {
          "output_type": "execute_result",
          "data": {
            "text/plain": [
              "115"
            ]
          },
          "metadata": {},
          "execution_count": 7
        }
      ],
      "source": [
        "len(labels_dict['filepath'])"
      ]
    },
    {
      "cell_type": "code",
      "execution_count": 8,
      "metadata": {
        "id": "IAYTspbgNuYU",
        "colab": {
          "base_uri": "https://localhost:8080/",
          "height": 386
        },
        "outputId": "3f3c4c01-02eb-47eb-d250-17b7a0f09f9d"
      },
      "outputs": [
        {
          "output_type": "execute_result",
          "data": {
            "text/plain": [
              "           filepath  prenom_xmin  prenom_xmax  prenom_ymin  prenom_ymax  \\\n",
              "0  data/A (110).xml           60          383          624          746   \n",
              "1   data/A (14).xml           82          455          646          756   \n",
              "2   data/A (69).xml           60          418          624          757   \n",
              "3   data/A (11).xml           82          335          646          756   \n",
              "4   data/A (42).xml           78          471          652          752   \n",
              "\n",
              "   nom_xmin  nom_xmax  nom_ymin  nom_ymax  date_xmin  ...  apogee_ymin  \\\n",
              "0        74       374       786       906        992  ...         1099   \n",
              "1        82       371       799       893        984  ...         1113   \n",
              "2        78       385       781       899        992  ...         1099   \n",
              "3        82       406       799       911        984  ...         1113   \n",
              "4        74       376       781       907        971  ...         1105   \n",
              "\n",
              "   apogee_ymax  cne_xmin  cne_xmax  cne_ymin  cne_ymax  email_xmin  \\\n",
              "0         1208       985      1523      1233      1355         143   \n",
              "1         1195      1004      1502      1256      1350         118   \n",
              "2         1208       985      1523      1233      1355         143   \n",
              "3         1195      1004      1502      1256      1350         118   \n",
              "4         1203       994      1510      1246      1354         135   \n",
              "\n",
              "   email_xmax  email_ymin  email_ymax  \n",
              "0        1154        1728        1821  \n",
              "1        1286        1730        1838  \n",
              "2        1247        1728        1819  \n",
              "3        1178        1730        1820  \n",
              "4        1294        1722        1834  \n",
              "\n",
              "[5 rows x 25 columns]"
            ],
            "text/html": [
              "\n",
              "  <div id=\"df-d13874d3-33b5-4731-b8fd-2fbc46284c55\">\n",
              "    <div class=\"colab-df-container\">\n",
              "      <div>\n",
              "<style scoped>\n",
              "    .dataframe tbody tr th:only-of-type {\n",
              "        vertical-align: middle;\n",
              "    }\n",
              "\n",
              "    .dataframe tbody tr th {\n",
              "        vertical-align: top;\n",
              "    }\n",
              "\n",
              "    .dataframe thead th {\n",
              "        text-align: right;\n",
              "    }\n",
              "</style>\n",
              "<table border=\"1\" class=\"dataframe\">\n",
              "  <thead>\n",
              "    <tr style=\"text-align: right;\">\n",
              "      <th></th>\n",
              "      <th>filepath</th>\n",
              "      <th>prenom_xmin</th>\n",
              "      <th>prenom_xmax</th>\n",
              "      <th>prenom_ymin</th>\n",
              "      <th>prenom_ymax</th>\n",
              "      <th>nom_xmin</th>\n",
              "      <th>nom_xmax</th>\n",
              "      <th>nom_ymin</th>\n",
              "      <th>nom_ymax</th>\n",
              "      <th>date_xmin</th>\n",
              "      <th>...</th>\n",
              "      <th>apogee_ymin</th>\n",
              "      <th>apogee_ymax</th>\n",
              "      <th>cne_xmin</th>\n",
              "      <th>cne_xmax</th>\n",
              "      <th>cne_ymin</th>\n",
              "      <th>cne_ymax</th>\n",
              "      <th>email_xmin</th>\n",
              "      <th>email_xmax</th>\n",
              "      <th>email_ymin</th>\n",
              "      <th>email_ymax</th>\n",
              "    </tr>\n",
              "  </thead>\n",
              "  <tbody>\n",
              "    <tr>\n",
              "      <th>0</th>\n",
              "      <td>data/A (110).xml</td>\n",
              "      <td>60</td>\n",
              "      <td>383</td>\n",
              "      <td>624</td>\n",
              "      <td>746</td>\n",
              "      <td>74</td>\n",
              "      <td>374</td>\n",
              "      <td>786</td>\n",
              "      <td>906</td>\n",
              "      <td>992</td>\n",
              "      <td>...</td>\n",
              "      <td>1099</td>\n",
              "      <td>1208</td>\n",
              "      <td>985</td>\n",
              "      <td>1523</td>\n",
              "      <td>1233</td>\n",
              "      <td>1355</td>\n",
              "      <td>143</td>\n",
              "      <td>1154</td>\n",
              "      <td>1728</td>\n",
              "      <td>1821</td>\n",
              "    </tr>\n",
              "    <tr>\n",
              "      <th>1</th>\n",
              "      <td>data/A (14).xml</td>\n",
              "      <td>82</td>\n",
              "      <td>455</td>\n",
              "      <td>646</td>\n",
              "      <td>756</td>\n",
              "      <td>82</td>\n",
              "      <td>371</td>\n",
              "      <td>799</td>\n",
              "      <td>893</td>\n",
              "      <td>984</td>\n",
              "      <td>...</td>\n",
              "      <td>1113</td>\n",
              "      <td>1195</td>\n",
              "      <td>1004</td>\n",
              "      <td>1502</td>\n",
              "      <td>1256</td>\n",
              "      <td>1350</td>\n",
              "      <td>118</td>\n",
              "      <td>1286</td>\n",
              "      <td>1730</td>\n",
              "      <td>1838</td>\n",
              "    </tr>\n",
              "    <tr>\n",
              "      <th>2</th>\n",
              "      <td>data/A (69).xml</td>\n",
              "      <td>60</td>\n",
              "      <td>418</td>\n",
              "      <td>624</td>\n",
              "      <td>757</td>\n",
              "      <td>78</td>\n",
              "      <td>385</td>\n",
              "      <td>781</td>\n",
              "      <td>899</td>\n",
              "      <td>992</td>\n",
              "      <td>...</td>\n",
              "      <td>1099</td>\n",
              "      <td>1208</td>\n",
              "      <td>985</td>\n",
              "      <td>1523</td>\n",
              "      <td>1233</td>\n",
              "      <td>1355</td>\n",
              "      <td>143</td>\n",
              "      <td>1247</td>\n",
              "      <td>1728</td>\n",
              "      <td>1819</td>\n",
              "    </tr>\n",
              "    <tr>\n",
              "      <th>3</th>\n",
              "      <td>data/A (11).xml</td>\n",
              "      <td>82</td>\n",
              "      <td>335</td>\n",
              "      <td>646</td>\n",
              "      <td>756</td>\n",
              "      <td>82</td>\n",
              "      <td>406</td>\n",
              "      <td>799</td>\n",
              "      <td>911</td>\n",
              "      <td>984</td>\n",
              "      <td>...</td>\n",
              "      <td>1113</td>\n",
              "      <td>1195</td>\n",
              "      <td>1004</td>\n",
              "      <td>1502</td>\n",
              "      <td>1256</td>\n",
              "      <td>1350</td>\n",
              "      <td>118</td>\n",
              "      <td>1178</td>\n",
              "      <td>1730</td>\n",
              "      <td>1820</td>\n",
              "    </tr>\n",
              "    <tr>\n",
              "      <th>4</th>\n",
              "      <td>data/A (42).xml</td>\n",
              "      <td>78</td>\n",
              "      <td>471</td>\n",
              "      <td>652</td>\n",
              "      <td>752</td>\n",
              "      <td>74</td>\n",
              "      <td>376</td>\n",
              "      <td>781</td>\n",
              "      <td>907</td>\n",
              "      <td>971</td>\n",
              "      <td>...</td>\n",
              "      <td>1105</td>\n",
              "      <td>1203</td>\n",
              "      <td>994</td>\n",
              "      <td>1510</td>\n",
              "      <td>1246</td>\n",
              "      <td>1354</td>\n",
              "      <td>135</td>\n",
              "      <td>1294</td>\n",
              "      <td>1722</td>\n",
              "      <td>1834</td>\n",
              "    </tr>\n",
              "  </tbody>\n",
              "</table>\n",
              "<p>5 rows × 25 columns</p>\n",
              "</div>\n",
              "      <button class=\"colab-df-convert\" onclick=\"convertToInteractive('df-d13874d3-33b5-4731-b8fd-2fbc46284c55')\"\n",
              "              title=\"Convert this dataframe to an interactive table.\"\n",
              "              style=\"display:none;\">\n",
              "        \n",
              "  <svg xmlns=\"http://www.w3.org/2000/svg\" height=\"24px\"viewBox=\"0 0 24 24\"\n",
              "       width=\"24px\">\n",
              "    <path d=\"M0 0h24v24H0V0z\" fill=\"none\"/>\n",
              "    <path d=\"M18.56 5.44l.94 2.06.94-2.06 2.06-.94-2.06-.94-.94-2.06-.94 2.06-2.06.94zm-11 1L8.5 8.5l.94-2.06 2.06-.94-2.06-.94L8.5 2.5l-.94 2.06-2.06.94zm10 10l.94 2.06.94-2.06 2.06-.94-2.06-.94-.94-2.06-.94 2.06-2.06.94z\"/><path d=\"M17.41 7.96l-1.37-1.37c-.4-.4-.92-.59-1.43-.59-.52 0-1.04.2-1.43.59L10.3 9.45l-7.72 7.72c-.78.78-.78 2.05 0 2.83L4 21.41c.39.39.9.59 1.41.59.51 0 1.02-.2 1.41-.59l7.78-7.78 2.81-2.81c.8-.78.8-2.07 0-2.86zM5.41 20L4 18.59l7.72-7.72 1.47 1.35L5.41 20z\"/>\n",
              "  </svg>\n",
              "      </button>\n",
              "      \n",
              "  <style>\n",
              "    .colab-df-container {\n",
              "      display:flex;\n",
              "      flex-wrap:wrap;\n",
              "      gap: 12px;\n",
              "    }\n",
              "\n",
              "    .colab-df-convert {\n",
              "      background-color: #E8F0FE;\n",
              "      border: none;\n",
              "      border-radius: 50%;\n",
              "      cursor: pointer;\n",
              "      display: none;\n",
              "      fill: #1967D2;\n",
              "      height: 32px;\n",
              "      padding: 0 0 0 0;\n",
              "      width: 32px;\n",
              "    }\n",
              "\n",
              "    .colab-df-convert:hover {\n",
              "      background-color: #E2EBFA;\n",
              "      box-shadow: 0px 1px 2px rgba(60, 64, 67, 0.3), 0px 1px 3px 1px rgba(60, 64, 67, 0.15);\n",
              "      fill: #174EA6;\n",
              "    }\n",
              "\n",
              "    [theme=dark] .colab-df-convert {\n",
              "      background-color: #3B4455;\n",
              "      fill: #D2E3FC;\n",
              "    }\n",
              "\n",
              "    [theme=dark] .colab-df-convert:hover {\n",
              "      background-color: #434B5C;\n",
              "      box-shadow: 0px 1px 3px 1px rgba(0, 0, 0, 0.15);\n",
              "      filter: drop-shadow(0px 1px 2px rgba(0, 0, 0, 0.3));\n",
              "      fill: #FFFFFF;\n",
              "    }\n",
              "  </style>\n",
              "\n",
              "      <script>\n",
              "        const buttonEl =\n",
              "          document.querySelector('#df-d13874d3-33b5-4731-b8fd-2fbc46284c55 button.colab-df-convert');\n",
              "        buttonEl.style.display =\n",
              "          google.colab.kernel.accessAllowed ? 'block' : 'none';\n",
              "\n",
              "        async function convertToInteractive(key) {\n",
              "          const element = document.querySelector('#df-d13874d3-33b5-4731-b8fd-2fbc46284c55');\n",
              "          const dataTable =\n",
              "            await google.colab.kernel.invokeFunction('convertToInteractive',\n",
              "                                                     [key], {});\n",
              "          if (!dataTable) return;\n",
              "\n",
              "          const docLinkHtml = 'Like what you see? Visit the ' +\n",
              "            '<a target=\"_blank\" href=https://colab.research.google.com/notebooks/data_table.ipynb>data table notebook</a>'\n",
              "            + ' to learn more about interactive tables.';\n",
              "          element.innerHTML = '';\n",
              "          dataTable['output_type'] = 'display_data';\n",
              "          await google.colab.output.renderOutput(dataTable, element);\n",
              "          const docLink = document.createElement('div');\n",
              "          docLink.innerHTML = docLinkHtml;\n",
              "          element.appendChild(docLink);\n",
              "        }\n",
              "      </script>\n",
              "    </div>\n",
              "  </div>\n",
              "  "
            ]
          },
          "metadata": {},
          "execution_count": 8
        }
      ],
      "source": [
        "df = pd.DataFrame(labels_dict)\n",
        "df.to_csv('labels.csv', index=False)\n",
        "df.head()"
      ]
    }
  ],
  "metadata": {
    "colab": {
      "provenance": [],
      "include_colab_link": true
    },
    "kernelspec": {
      "display_name": "Python 3",
      "name": "python3"
    },
    "language_info": {
      "codemirror_mode": {
        "name": "ipython",
        "version": 3
      },
      "file_extension": ".py",
      "mimetype": "text/x-python",
      "name": "python",
      "nbconvert_exporter": "python",
      "pygments_lexer": "ipython3",
      "version": "3.10.2"
    }
  },
  "nbformat": 4,
  "nbformat_minor": 0
}